{
  "nbformat": 4,
  "nbformat_minor": 0,
  "metadata": {
    "colab": {
      "provenance": []
    },
    "kernelspec": {
      "name": "python3",
      "display_name": "Python 3"
    },
    "language_info": {
      "name": "python"
    }
  },
  "cells": [
    {
      "cell_type": "code",
      "execution_count": 9,
      "metadata": {
        "id": "hZHJ2ku1Jxh3"
      },
      "outputs": [],
      "source": [
        "import pandas as pd\n",
        "\n",
        "\n",
        "url = 'https://raw.githubusercontent.com/JuliaData/CSV.jl/refs/heads/main/test/testfiles/Sacramentorealestatetransactions.csv'\n",
        "\n",
        "# Load the CSV into a DataFrame\n",
        "df = pd.read_csv(url)\n",
        "\n"
      ]
    },
    {
      "cell_type": "code",
      "source": [
        "num_columns = df.shape[1]\n",
        "print(\"Number of columns in the DataFrame:\", num_columns)\n"
      ],
      "metadata": {
        "colab": {
          "base_uri": "https://localhost:8080/"
        },
        "id": "ZpPVOXi7L5oX",
        "outputId": "1b15a194-294a-4613-abee-17a5259bc324"
      },
      "execution_count": 10,
      "outputs": [
        {
          "output_type": "stream",
          "name": "stdout",
          "text": [
            "Number of columns in the DataFrame: 12\n"
          ]
        }
      ]
    },
    {
      "cell_type": "code",
      "source": [
        "mean_price = df['price'].mean()\n",
        "print(\"Mean of the house prices:\", mean_price)\n"
      ],
      "metadata": {
        "colab": {
          "base_uri": "https://localhost:8080/"
        },
        "id": "EgnizYnHLMRQ",
        "outputId": "80924276-952e-4a0a-d10a-4443210dc01f"
      },
      "execution_count": 11,
      "outputs": [
        {
          "output_type": "stream",
          "name": "stdout",
          "text": [
            "Mean of the house prices: 234144.26395939087\n"
          ]
        }
      ]
    },
    {
      "cell_type": "code",
      "source": [
        "median_price = df['price'].median()\n",
        "print(\"Median of the house prices:\", median_price)\n"
      ],
      "metadata": {
        "colab": {
          "base_uri": "https://localhost:8080/"
        },
        "id": "ictNSDEALOMk",
        "outputId": "5caf7ecf-05d6-4a93-f84c-fa23225c4082"
      },
      "execution_count": 12,
      "outputs": [
        {
          "output_type": "stream",
          "name": "stdout",
          "text": [
            "Median of the house prices: 213750.0\n"
          ]
        }
      ]
    },
    {
      "cell_type": "code",
      "source": [
        "property_types = df['type'].unique()\n",
        "print(\"Different types of property:\", property_types)\n"
      ],
      "metadata": {
        "colab": {
          "base_uri": "https://localhost:8080/"
        },
        "id": "Hdqac33PLT5f",
        "outputId": "3eceed59-7181-4b5f-df62-788e440aba1f"
      },
      "execution_count": 13,
      "outputs": [
        {
          "output_type": "stream",
          "name": "stdout",
          "text": [
            "Different types of property: ['Residential' 'Condo' 'Multi-Family' 'Unkown']\n"
          ]
        }
      ]
    },
    {
      "cell_type": "code",
      "source": [
        "max_condo_price = df[df['type'] == 'Condo']['price'].max()\n",
        "print(\"Maximum price of a condo:\", max_condo_price)\n"
      ],
      "metadata": {
        "colab": {
          "base_uri": "https://localhost:8080/"
        },
        "id": "YZkkAdN6LXgE",
        "outputId": "1ca9e402-96db-4a22-fc77-7ad3a00ca2fd"
      },
      "execution_count": 14,
      "outputs": [
        {
          "output_type": "stream",
          "name": "stdout",
          "text": [
            "Maximum price of a condo: 360000\n"
          ]
        }
      ]
    },
    {
      "cell_type": "code",
      "source": [
        "mean_price_by_type = df.groupby('type')['price'].mean()\n",
        "print(\"Mean price by property type:\\n\", mean_price_by_type)\n"
      ],
      "metadata": {
        "colab": {
          "base_uri": "https://localhost:8080/"
        },
        "id": "Ae55dcH6LcMR",
        "outputId": "6bbd78a1-2786-4cde-9a56-04efede3f755"
      },
      "execution_count": 15,
      "outputs": [
        {
          "output_type": "stream",
          "name": "stdout",
          "text": [
            "Mean price by property type:\n",
            " type\n",
            "Condo           150082.185185\n",
            "Multi-Family    224534.692308\n",
            "Residential     239186.162486\n",
            "Unkown          275000.000000\n",
            "Name: price, dtype: float64\n"
          ]
        }
      ]
    },
    {
      "cell_type": "code",
      "source": [
        "count_by_property_type = df['type'].value_counts()\n",
        "print(\"Count of different property types:\\n\", count_by_property_type)\n"
      ],
      "metadata": {
        "colab": {
          "base_uri": "https://localhost:8080/"
        },
        "id": "w1SSyFHrLg2u",
        "outputId": "88adf180-e4e7-4074-c0f7-22040e9bd8f4"
      },
      "execution_count": 16,
      "outputs": [
        {
          "output_type": "stream",
          "name": "stdout",
          "text": [
            "Count of different property types:\n",
            " type\n",
            "Residential     917\n",
            "Condo            54\n",
            "Multi-Family     13\n",
            "Unkown            1\n",
            "Name: count, dtype: int64\n"
          ]
        }
      ]
    }
  ]
}